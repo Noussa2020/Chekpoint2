{
 "cells": [
  {
   "cell_type": "code",
   "execution_count": 82,
   "metadata": {},
   "outputs": [
    {
     "name": "stdout",
     "output_type": "stream",
     "text": [
      "donner le nom: ons\n",
      "donner le prenom: dhahbi\n",
      "=> dhahbi ons\n"
     ]
    }
   ],
   "source": [
    "nom = input(\"donner le nom: \")\n",
    "prenom = input(\"donner le prenom: \")\n",
    "print(\"=>\",prenom ,  nom)"
   ]
  },
  {
   "cell_type": "code",
   "execution_count": null,
   "metadata": {},
   "outputs": [],
   "source": []
  },
  {
   "cell_type": "code",
   "execution_count": 83,
   "metadata": {},
   "outputs": [
    {
     "name": "stdout",
     "output_type": "stream",
     "text": [
      "donner le nombre n: 3\n",
      "n+nn+nnn= 369\n"
     ]
    }
   ],
   "source": [
    "n=int(input(\"donner le nombre n: \"))\n",
    "while    n<0 or n>9:\n",
    "    n=int(input(\"le nombre est incorrect donner un autre:\"))\n",
    "    print(n)\n",
    "s=n+(n*10+n)+(n+n*100+n*10)\n",
    "print(\"n+nn+nnn=\",s)\n",
    "    \n"
   ]
  },
  {
   "cell_type": "code",
   "execution_count": null,
   "metadata": {},
   "outputs": [],
   "source": [
    "num = int(input(\"Enter a number: \"))\n",
    "if (num % 2) == 0:\n",
    "   print(num,\" is Even\")\n",
    "else:\n",
    "   print(num,\" is Odd\")"
   ]
  },
  {
   "cell_type": "code",
   "execution_count": null,
   "metadata": {},
   "outputs": [],
   "source": [
    "for i in range(2000, 3200):\n",
    "    if i%7 == 0 and i%5 !=0: \n",
    "        print(i)\n",
    "      \n",
    "    "
   ]
  },
  {
   "cell_type": "code",
   "execution_count": null,
   "metadata": {},
   "outputs": [],
   "source": [
    "nbr= int(input(\"donner le nombre:\"))\n",
    "print (nbr)\n",
    "fact=1\n",
    "for i in range(1,nbr+1):\n",
    "    fact=fact*i\n",
    "    \n",
    "print(fact)\n",
    "\n"
   ]
  },
  {
   "cell_type": "code",
   "execution_count": null,
   "metadata": {},
   "outputs": [],
   "source": [
    "s= str(input(\"entrer votre chaine:\"))\n",
    "for i in range(1,len(s),2):\n",
    "    print(s[i])"
   ]
  },
  {
   "cell_type": "code",
   "execution_count": null,
   "metadata": {},
   "outputs": [],
   "source": [
    "price= float(input(\"entrer le prix:\"))\n",
    "print (price)\n",
    "if price >= 500:\n",
    "    price = price-price * 0.5\n",
    "elif price>200 and  price < 500 :\n",
    "    price = price - price*0.3\n",
    "elif price < 200 :\n",
    "    price = price *0.1      \n",
    "print (price)     \n",
    "        \n",
    "    "
   ]
  },
  {
   "cell_type": "code",
   "execution_count": null,
   "metadata": {},
   "outputs": [],
   "source": [
    "year = int(input(\"entrer l'année\"))\n",
    "if (year%4) == 0 and (year%100) !=0 :\n",
    "       print (\"It's a leap year\")\n",
    "else:\n",
    "       print (\"It's not a leap year\")"
   ]
  },
  {
   "cell_type": "code",
   "execution_count": null,
   "metadata": {},
   "outputs": [],
   "source": []
  },
  {
   "cell_type": "code",
   "execution_count": null,
   "metadata": {},
   "outputs": [],
   "source": []
  },
  {
   "cell_type": "code",
   "execution_count": null,
   "metadata": {},
   "outputs": [],
   "source": []
  }
 ],
 "metadata": {
  "kernelspec": {
   "display_name": "Python 3",
   "language": "python",
   "name": "python3"
  },
  "language_info": {
   "codemirror_mode": {
    "name": "ipython",
    "version": 3
   },
   "file_extension": ".py",
   "mimetype": "text/x-python",
   "name": "python",
   "nbconvert_exporter": "python",
   "pygments_lexer": "ipython3",
   "version": "3.8.5"
  }
 },
 "nbformat": 4,
 "nbformat_minor": 4
}
